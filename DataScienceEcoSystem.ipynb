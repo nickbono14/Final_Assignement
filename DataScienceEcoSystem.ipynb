{
 "cells": [
  {
   "cell_type": "markdown",
   "id": "adb925cd",
   "metadata": {},
   "source": [
    "# Data Science Tools and Ecosystem"
   ]
  },
  {
   "cell_type": "markdown",
   "id": "6a255c18",
   "metadata": {},
   "source": [
    "In this Notebook, Data Science Tools and Ecosystem are summerized.\n",
    "\n",
    "**Objectives:**\n",
    "- Lits of popular languages for Data Science\n",
    "- List of popular libraries for Data Science\n",
    "- List of popular development envirenments for Data Science\n",
    "- Example of evaluating arithmetic expressions\n",
    "- Example of converting minutes to hours"
   ]
  },
  {
   "cell_type": "markdown",
   "id": "51fbb8a8",
   "metadata": {},
   "source": [
    "Some of the most popular languages that Data Scientists use are:\n",
    "1. Python \n",
    "2. R\n",
    "3. SQL \n",
    "4. Scala\n",
    "5. Java\n",
    "6. C++\n",
    "7. Julia"
   ]
  },
  {
   "cell_type": "markdown",
   "id": "a38f54a7",
   "metadata": {},
   "source": [
    "Some of the most common libraries use by Data Scientists include:\n",
    "1. Python's (Pandas, Numpy, Matplotlib, Scipy, Seaborn, Scipy, Scikit-learn)\n",
    "2. TensorFlow\n",
    "3. Apache Spark"
   ]
  },
  {
   "cell_type": "markdown",
   "id": "209469bc",
   "metadata": {},
   "source": [
    "| Data Science Tools|\n",
    "| ----------------- |\n",
    "| Jupyter NoteBook |\n",
    "| RStudio | \n",
    "| VS Code |"
   ]
  },
  {
   "cell_type": "markdown",
   "id": "bccbff44",
   "metadata": {},
   "source": [
    "### Below are a few examples of evaluating arithmetic expressions in Python"
   ]
  },
  {
   "cell_type": "code",
   "execution_count": 2,
   "id": "0b7a26b6",
   "metadata": {},
   "outputs": [
    {
     "data": {
      "text/plain": [
       "17"
      ]
     },
     "execution_count": 2,
     "metadata": {},
     "output_type": "execute_result"
    }
   ],
   "source": [
    "(3*4)+5"
   ]
  },
  {
   "cell_type": "code",
   "execution_count": 9,
   "id": "54ae2628",
   "metadata": {
    "scrolled": true
   },
   "outputs": [
    {
     "name": "stdout",
     "output_type": "stream",
     "text": [
      "3.3 hours\n"
     ]
    }
   ],
   "source": [
    "#This will convert 200 minutes to hours by diving by 60\n",
    "convert = 200 / 60\n",
    "print(f\"{convert:.1f} hours\")"
   ]
  },
  {
   "cell_type": "markdown",
   "id": "9bb66daa",
   "metadata": {},
   "source": [
    "## Author\n",
    "Harding Dieu Regne Bono Okola"
   ]
  }
 ],
 "metadata": {
  "kernelspec": {
   "display_name": "Python 3 (ipykernel)",
   "language": "python",
   "name": "python3"
  },
  "language_info": {
   "codemirror_mode": {
    "name": "ipython",
    "version": 3
   },
   "file_extension": ".py",
   "mimetype": "text/x-python",
   "name": "python",
   "nbconvert_exporter": "python",
   "pygments_lexer": "ipython3",
   "version": "3.11.4"
  }
 },
 "nbformat": 4,
 "nbformat_minor": 5
}
